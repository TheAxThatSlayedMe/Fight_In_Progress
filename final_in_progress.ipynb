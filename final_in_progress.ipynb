{
 "metadata": {
  "language_info": {
   "codemirror_mode": {
    "name": "ipython",
    "version": 3
   },
   "file_extension": ".py",
   "mimetype": "text/x-python",
   "name": "python",
   "nbconvert_exporter": "python",
   "pygments_lexer": "ipython3",
   "version": "3.7.3-final"
  },
  "orig_nbformat": 2,
  "kernelspec": {
   "name": "python_defaultSpec_1601306850472",
   "display_name": "Python 3.7.3 64-bit"
  }
 },
 "nbformat": 4,
 "nbformat_minor": 2,
 "cells": [
  {
   "cell_type": "code",
   "execution_count": 2,
   "metadata": {},
   "outputs": [
    {
     "output_type": "execute_result",
     "data": {
      "text/plain": "[['a', 'aa', 'aaa', 'b', 'bb', 'bbb']]"
     },
     "metadata": {},
     "execution_count": 2
    }
   ],
   "source": [
    "\n",
    "from functools import reduce\n",
    "from operator import concat\n",
    "\n",
    "\n",
    "def list_of_packs(): #This function must be rewritten to look in directory and create variables assigned to each list\n",
    "    lla = ['a', 'aa', 'aaa']\n",
    "    llb = ['b', 'bb', 'bbb']\n",
    "    yield lla\n",
    "    yield llb #return only returns ONE of these, just llb\n",
    "\n",
    "#\n",
    "def combine_lists2():\n",
    "    return reduce(concat, [\n",
    "        list_of_packs()\n",
    "\n",
    "    ])\n",
    "\n",
    "def flatten_list(local_nested_list):\n",
    "\n",
    "    flat_list = []\n",
    "    for sublist in local_nested_list:\n",
    "        for item in sublist:\n",
    "            flat_list.append(item)\n",
    "    yield flat_list\n",
    "\n",
    "def gather_list_functions(list_name): #will be gather_list_functions(opponents) or (contests)\n",
    "    list_name = list(flatten_list(combine_lists2()))\n",
    "    return list_name\n",
    "\n",
    "opponents = []\n",
    "\n",
    "\n",
    "\n",
    "gather_list_functions(opponents)"
   ]
  },
  {
   "cell_type": "code",
   "execution_count": null,
   "metadata": {},
   "outputs": [],
   "source": []
  }
 ]
}